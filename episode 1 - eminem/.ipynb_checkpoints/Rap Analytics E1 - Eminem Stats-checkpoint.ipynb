{
 "cells": [
  {
   "cell_type": "markdown",
   "metadata": {},
   "source": [
    "# **Rap Analytics Episode 1: Eminem's Stats**\n",
    "\n",
    "Rap Analytics aims to provide quick analytics on rap artists, while also sharing the python code and procedures for data cleaning, analysis and visualization.  \n",
    "The first analysis will look at one of the most popular and successful rappers out there, Eminem. We will take a look at his music to understand: how long is his typical song? did that change with time? how much content does he release by album?  "
   ]
  },
  {
   "cell_type": "markdown",
   "metadata": {},
   "source": [
    "#### Analysis notes.\n",
    "Before we proceed, a few notes on the data used:\n",
    "* Data used has been scraped from Eminem's wikipedia pages (both artist and albums wiki pages) by hand.\n",
    "* Features scraped from the website are: Artist, Album Title, Song Title, Length and Release date."
   ]
  },
  {
   "cell_type": "code",
   "execution_count": 1,
   "metadata": {},
   "outputs": [],
   "source": [
    "# Function that converts number from seconds into minutes:seconds.\n",
    "# Example input: 125;  Example output: 2:05\n",
    "def duration_text(length):\n",
    "    length = float(length)\n",
    "    length = round(length)\n",
    "    minutes = length // 60\n",
    "    seconds = length % 60\n",
    "    duration_string = str(minutes) + ':' + str(seconds)\n",
    "    return duration_string"
   ]
  },
  {
   "cell_type": "markdown",
   "metadata": {},
   "source": [
    "#### Library Imports"
   ]
  },
  {
   "cell_type": "code",
   "execution_count": 2,
   "metadata": {},
   "outputs": [],
   "source": [
    "import pandas as pd\n",
    "import numpy as np\n",
    "\n",
    "import matplotlib.pyplot as plt\n",
    "from matplotlib import rcParams\n",
    "import seaborn as sns\n",
    "\n",
    "rcParams['figure.figsize'] = 8.5, 5.1"
   ]
  },
  {
   "cell_type": "markdown",
   "metadata": {},
   "source": [
    "#### Data Reading"
   ]
  },
  {
   "cell_type": "code",
   "execution_count": 3,
   "metadata": {},
   "outputs": [],
   "source": [
    "# Read in Eminem's songs data\n",
    "em_df = pd.read_csv('./data/eminem_songs.csv')"
   ]
  },
  {
   "cell_type": "code",
   "execution_count": 4,
   "metadata": {},
   "outputs": [
    {
     "name": "stdout",
     "output_type": "stream",
     "text": [
      "\n",
      "\n",
      "Features Information\n",
      "<class 'pandas.core.frame.DataFrame'>\n",
      "RangeIndex: 209 entries, 0 to 208\n",
      "Data columns (total 5 columns):\n",
      " #   Column        Non-Null Count  Dtype \n",
      "---  ------        --------------  ----- \n",
      " 0   Artist        209 non-null    object\n",
      " 1   Album Title   207 non-null    object\n",
      " 2   Song Title    209 non-null    object\n",
      " 3   Length        209 non-null    object\n",
      " 4   Release Date  209 non-null    object\n",
      "dtypes: object(5)\n",
      "memory usage: 8.3+ KB\n"
     ]
    },
    {
     "data": {
      "text/plain": [
       "None"
      ]
     },
     "metadata": {},
     "output_type": "display_data"
    },
    {
     "name": "stdout",
     "output_type": "stream",
     "text": [
      "\n",
      "\n",
      "Features Description\n"
     ]
    },
    {
     "data": {
      "text/html": [
       "<div>\n",
       "<style scoped>\n",
       "    .dataframe tbody tr th:only-of-type {\n",
       "        vertical-align: middle;\n",
       "    }\n",
       "\n",
       "    .dataframe tbody tr th {\n",
       "        vertical-align: top;\n",
       "    }\n",
       "\n",
       "    .dataframe thead th {\n",
       "        text-align: right;\n",
       "    }\n",
       "</style>\n",
       "<table border=\"1\" class=\"dataframe\">\n",
       "  <thead>\n",
       "    <tr style=\"text-align: right;\">\n",
       "      <th></th>\n",
       "      <th>Artist</th>\n",
       "      <th>Album Title</th>\n",
       "      <th>Song Title</th>\n",
       "      <th>Length</th>\n",
       "      <th>Release Date</th>\n",
       "    </tr>\n",
       "  </thead>\n",
       "  <tbody>\n",
       "    <tr>\n",
       "      <th>count</th>\n",
       "      <td>209</td>\n",
       "      <td>207</td>\n",
       "      <td>209</td>\n",
       "      <td>209</td>\n",
       "      <td>209</td>\n",
       "    </tr>\n",
       "    <tr>\n",
       "      <th>unique</th>\n",
       "      <td>1</td>\n",
       "      <td>19</td>\n",
       "      <td>200</td>\n",
       "      <td>130</td>\n",
       "      <td>25</td>\n",
       "    </tr>\n",
       "    <tr>\n",
       "      <th>top</th>\n",
       "      <td>Eminem</td>\n",
       "      <td>Music to be Murdered By</td>\n",
       "      <td>Paul (skit)</td>\n",
       "      <td>4:25</td>\n",
       "      <td>1/17/2020</td>\n",
       "    </tr>\n",
       "    <tr>\n",
       "      <th>freq</th>\n",
       "      <td>209</td>\n",
       "      <td>20</td>\n",
       "      <td>5</td>\n",
       "      <td>5</td>\n",
       "      <td>20</td>\n",
       "    </tr>\n",
       "  </tbody>\n",
       "</table>\n",
       "</div>"
      ],
      "text/plain": [
       "        Artist              Album Title   Song Title Length Release Date\n",
       "count      209                      207          209    209          209\n",
       "unique       1                       19          200    130           25\n",
       "top     Eminem  Music to be Murdered By  Paul (skit)   4:25    1/17/2020\n",
       "freq       209                       20            5      5           20"
      ]
     },
     "metadata": {},
     "output_type": "display_data"
    },
    {
     "name": "stdout",
     "output_type": "stream",
     "text": [
      "\n",
      "\n",
      "Dataset sample (5 rows)\n"
     ]
    },
    {
     "data": {
      "text/html": [
       "<div>\n",
       "<style scoped>\n",
       "    .dataframe tbody tr th:only-of-type {\n",
       "        vertical-align: middle;\n",
       "    }\n",
       "\n",
       "    .dataframe tbody tr th {\n",
       "        vertical-align: top;\n",
       "    }\n",
       "\n",
       "    .dataframe thead th {\n",
       "        text-align: right;\n",
       "    }\n",
       "</style>\n",
       "<table border=\"1\" class=\"dataframe\">\n",
       "  <thead>\n",
       "    <tr style=\"text-align: right;\">\n",
       "      <th></th>\n",
       "      <th>Artist</th>\n",
       "      <th>Album Title</th>\n",
       "      <th>Song Title</th>\n",
       "      <th>Length</th>\n",
       "      <th>Release Date</th>\n",
       "    </tr>\n",
       "  </thead>\n",
       "  <tbody>\n",
       "    <tr>\n",
       "      <th>0</th>\n",
       "      <td>Eminem</td>\n",
       "      <td>Infinite</td>\n",
       "      <td>Infinite</td>\n",
       "      <td>4:11</td>\n",
       "      <td>11/12/1996</td>\n",
       "    </tr>\n",
       "    <tr>\n",
       "      <th>1</th>\n",
       "      <td>Eminem</td>\n",
       "      <td>Infinite</td>\n",
       "      <td>W.E.G.O. (Interlude)</td>\n",
       "      <td>0:26</td>\n",
       "      <td>11/12/1996</td>\n",
       "    </tr>\n",
       "    <tr>\n",
       "      <th>2</th>\n",
       "      <td>Eminem</td>\n",
       "      <td>Infinite</td>\n",
       "      <td>It's O.K.</td>\n",
       "      <td>3:29</td>\n",
       "      <td>11/12/1996</td>\n",
       "    </tr>\n",
       "    <tr>\n",
       "      <th>3</th>\n",
       "      <td>Eminem</td>\n",
       "      <td>Infinite</td>\n",
       "      <td>Tonite</td>\n",
       "      <td>3:45</td>\n",
       "      <td>11/12/1996</td>\n",
       "    </tr>\n",
       "    <tr>\n",
       "      <th>4</th>\n",
       "      <td>Eminem</td>\n",
       "      <td>Infinite</td>\n",
       "      <td>313</td>\n",
       "      <td>4:11</td>\n",
       "      <td>11/12/1996</td>\n",
       "    </tr>\n",
       "  </tbody>\n",
       "</table>\n",
       "</div>"
      ],
      "text/plain": [
       "   Artist Album Title            Song Title Length Release Date\n",
       "0  Eminem    Infinite              Infinite   4:11   11/12/1996\n",
       "1  Eminem    Infinite  W.E.G.O. (Interlude)   0:26   11/12/1996\n",
       "2  Eminem    Infinite             It's O.K.   3:29   11/12/1996\n",
       "3  Eminem    Infinite                Tonite   3:45   11/12/1996\n",
       "4  Eminem    Infinite                   313   4:11   11/12/1996"
      ]
     },
     "metadata": {},
     "output_type": "display_data"
    }
   ],
   "source": [
    "print(\"\\n\")\n",
    "print(\"Features Information\")\n",
    "display(em_df.info())\n",
    "print(\"\\n\")\n",
    "print(\"Features Description\")\n",
    "display(em_df.describe())\n",
    "print(\"\\n\")\n",
    "print(\"Dataset sample (5 rows)\")\n",
    "display(em_df.head())"
   ]
  },
  {
   "cell_type": "markdown",
   "metadata": {},
   "source": [
    "#### Type Conversions\n",
    "\n",
    "All dataset features are stored as objects (strings), but \"Release Date\" should be a date and Length should be comparable between songs, so we need to transform and convert to numbers.  \n",
    "Steps:\n",
    "1. Convert \"Release Date\" to date\n",
    "2. Transform \"Length\" into seconds  \n",
    "    2.1 Split \"Length by \":\" into minutes and seconds  \n",
    "    2.2 Convert minutes and seconds columns into numbers (int)  \n",
    "    2.3 Convert minutes into seconds and add them to the seconds column  \n",
    "    2.4 Remove extra columns created"
   ]
  },
  {
   "cell_type": "code",
   "execution_count": 5,
   "metadata": {},
   "outputs": [
    {
     "name": "stdout",
     "output_type": "stream",
     "text": [
      "<class 'pandas.core.frame.DataFrame'>\n",
      "RangeIndex: 209 entries, 0 to 208\n",
      "Data columns (total 5 columns):\n",
      " #   Column        Non-Null Count  Dtype         \n",
      "---  ------        --------------  -----         \n",
      " 0   Artist        209 non-null    object        \n",
      " 1   Album Title   207 non-null    object        \n",
      " 2   Song Title    209 non-null    object        \n",
      " 3   Length        209 non-null    object        \n",
      " 4   Release Date  209 non-null    datetime64[ns]\n",
      "dtypes: datetime64[ns](1), object(4)\n",
      "memory usage: 8.3+ KB\n"
     ]
    },
    {
     "data": {
      "text/plain": [
       "None"
      ]
     },
     "metadata": {},
     "output_type": "display_data"
    },
    {
     "name": "stdout",
     "output_type": "stream",
     "text": [
      "\n",
      "\n"
     ]
    },
    {
     "data": {
      "text/html": [
       "<div>\n",
       "<style scoped>\n",
       "    .dataframe tbody tr th:only-of-type {\n",
       "        vertical-align: middle;\n",
       "    }\n",
       "\n",
       "    .dataframe tbody tr th {\n",
       "        vertical-align: top;\n",
       "    }\n",
       "\n",
       "    .dataframe thead th {\n",
       "        text-align: right;\n",
       "    }\n",
       "</style>\n",
       "<table border=\"1\" class=\"dataframe\">\n",
       "  <thead>\n",
       "    <tr style=\"text-align: right;\">\n",
       "      <th></th>\n",
       "      <th>Artist</th>\n",
       "      <th>Album Title</th>\n",
       "      <th>Song Title</th>\n",
       "      <th>Length</th>\n",
       "      <th>Release Date</th>\n",
       "    </tr>\n",
       "  </thead>\n",
       "  <tbody>\n",
       "    <tr>\n",
       "      <th>0</th>\n",
       "      <td>Eminem</td>\n",
       "      <td>Infinite</td>\n",
       "      <td>Infinite</td>\n",
       "      <td>4:11</td>\n",
       "      <td>1996-11-12</td>\n",
       "    </tr>\n",
       "    <tr>\n",
       "      <th>1</th>\n",
       "      <td>Eminem</td>\n",
       "      <td>Infinite</td>\n",
       "      <td>W.E.G.O. (Interlude)</td>\n",
       "      <td>0:26</td>\n",
       "      <td>1996-11-12</td>\n",
       "    </tr>\n",
       "    <tr>\n",
       "      <th>2</th>\n",
       "      <td>Eminem</td>\n",
       "      <td>Infinite</td>\n",
       "      <td>It's O.K.</td>\n",
       "      <td>3:29</td>\n",
       "      <td>1996-11-12</td>\n",
       "    </tr>\n",
       "    <tr>\n",
       "      <th>3</th>\n",
       "      <td>Eminem</td>\n",
       "      <td>Infinite</td>\n",
       "      <td>Tonite</td>\n",
       "      <td>3:45</td>\n",
       "      <td>1996-11-12</td>\n",
       "    </tr>\n",
       "    <tr>\n",
       "      <th>4</th>\n",
       "      <td>Eminem</td>\n",
       "      <td>Infinite</td>\n",
       "      <td>313</td>\n",
       "      <td>4:11</td>\n",
       "      <td>1996-11-12</td>\n",
       "    </tr>\n",
       "  </tbody>\n",
       "</table>\n",
       "</div>"
      ],
      "text/plain": [
       "   Artist Album Title            Song Title Length Release Date\n",
       "0  Eminem    Infinite              Infinite   4:11   1996-11-12\n",
       "1  Eminem    Infinite  W.E.G.O. (Interlude)   0:26   1996-11-12\n",
       "2  Eminem    Infinite             It's O.K.   3:29   1996-11-12\n",
       "3  Eminem    Infinite                Tonite   3:45   1996-11-12\n",
       "4  Eminem    Infinite                   313   4:11   1996-11-12"
      ]
     },
     "metadata": {},
     "output_type": "display_data"
    }
   ],
   "source": [
    "# 1. Converting \"Release Date\" to date\n",
    "em_df['Release Date'] = pd.to_datetime(em_df['Release Date'])\n",
    "\n",
    "# Check if column was converted\n",
    "display(em_df.info())\n",
    "print(\"\\n\")\n",
    "display(em_df.head())"
   ]
  },
  {
   "cell_type": "code",
   "execution_count": 6,
   "metadata": {},
   "outputs": [
    {
     "name": "stdout",
     "output_type": "stream",
     "text": [
      "<class 'pandas.core.frame.DataFrame'>\n",
      "RangeIndex: 209 entries, 0 to 208\n",
      "Data columns (total 6 columns):\n",
      " #   Column        Non-Null Count  Dtype         \n",
      "---  ------        --------------  -----         \n",
      " 0   Artist        209 non-null    object        \n",
      " 1   Album Title   207 non-null    object        \n",
      " 2   Song Title    209 non-null    object        \n",
      " 3   Length        209 non-null    object        \n",
      " 4   Release Date  209 non-null    datetime64[ns]\n",
      " 5   length_sec    209 non-null    int64         \n",
      "dtypes: datetime64[ns](1), int64(1), object(4)\n",
      "memory usage: 9.9+ KB\n"
     ]
    },
    {
     "data": {
      "text/plain": [
       "None"
      ]
     },
     "metadata": {},
     "output_type": "display_data"
    },
    {
     "name": "stdout",
     "output_type": "stream",
     "text": [
      "\n",
      "\n"
     ]
    },
    {
     "data": {
      "text/html": [
       "<div>\n",
       "<style scoped>\n",
       "    .dataframe tbody tr th:only-of-type {\n",
       "        vertical-align: middle;\n",
       "    }\n",
       "\n",
       "    .dataframe tbody tr th {\n",
       "        vertical-align: top;\n",
       "    }\n",
       "\n",
       "    .dataframe thead th {\n",
       "        text-align: right;\n",
       "    }\n",
       "</style>\n",
       "<table border=\"1\" class=\"dataframe\">\n",
       "  <thead>\n",
       "    <tr style=\"text-align: right;\">\n",
       "      <th></th>\n",
       "      <th>Artist</th>\n",
       "      <th>Album Title</th>\n",
       "      <th>Song Title</th>\n",
       "      <th>Length</th>\n",
       "      <th>Release Date</th>\n",
       "      <th>length_sec</th>\n",
       "    </tr>\n",
       "  </thead>\n",
       "  <tbody>\n",
       "    <tr>\n",
       "      <th>0</th>\n",
       "      <td>Eminem</td>\n",
       "      <td>Infinite</td>\n",
       "      <td>Infinite</td>\n",
       "      <td>4:11</td>\n",
       "      <td>1996-11-12</td>\n",
       "      <td>251</td>\n",
       "    </tr>\n",
       "    <tr>\n",
       "      <th>1</th>\n",
       "      <td>Eminem</td>\n",
       "      <td>Infinite</td>\n",
       "      <td>W.E.G.O. (Interlude)</td>\n",
       "      <td>0:26</td>\n",
       "      <td>1996-11-12</td>\n",
       "      <td>26</td>\n",
       "    </tr>\n",
       "    <tr>\n",
       "      <th>2</th>\n",
       "      <td>Eminem</td>\n",
       "      <td>Infinite</td>\n",
       "      <td>It's O.K.</td>\n",
       "      <td>3:29</td>\n",
       "      <td>1996-11-12</td>\n",
       "      <td>209</td>\n",
       "    </tr>\n",
       "    <tr>\n",
       "      <th>3</th>\n",
       "      <td>Eminem</td>\n",
       "      <td>Infinite</td>\n",
       "      <td>Tonite</td>\n",
       "      <td>3:45</td>\n",
       "      <td>1996-11-12</td>\n",
       "      <td>225</td>\n",
       "    </tr>\n",
       "    <tr>\n",
       "      <th>4</th>\n",
       "      <td>Eminem</td>\n",
       "      <td>Infinite</td>\n",
       "      <td>313</td>\n",
       "      <td>4:11</td>\n",
       "      <td>1996-11-12</td>\n",
       "      <td>251</td>\n",
       "    </tr>\n",
       "  </tbody>\n",
       "</table>\n",
       "</div>"
      ],
      "text/plain": [
       "   Artist Album Title            Song Title Length Release Date  length_sec\n",
       "0  Eminem    Infinite              Infinite   4:11   1996-11-12         251\n",
       "1  Eminem    Infinite  W.E.G.O. (Interlude)   0:26   1996-11-12          26\n",
       "2  Eminem    Infinite             It's O.K.   3:29   1996-11-12         209\n",
       "3  Eminem    Infinite                Tonite   3:45   1996-11-12         225\n",
       "4  Eminem    Infinite                   313   4:11   1996-11-12         251"
      ]
     },
     "metadata": {},
     "output_type": "display_data"
    }
   ],
   "source": [
    "# 2. Transform \"Length\" into seconds\n",
    "\n",
    "# 2.1 Split length by \":\"\n",
    "em_df[['Length_mins','Length_secs']] = em_df['Length'].str.split(pat=':', expand=True)\n",
    "# 2.2 Convert columns to int\n",
    "em_df['Length_mins'] = pd.to_numeric(em_df['Length_mins'])\n",
    "em_df['Length_secs'] = pd.to_numeric(em_df['Length_secs'])\n",
    "# 2.3 Convert minutes into seconds and add them to the seconds column\n",
    "em_df['length_sec'] = em_df['Length_secs'] + 60 * em_df['Length_mins']\n",
    "# 2.4 Remove extra columns created (Length_mins)\n",
    "em_df.drop(['Length_mins', 'Length_secs'], axis=1, inplace=True)\n",
    "\n",
    "# Check results\n",
    "display(em_df.info())\n",
    "print(\"\\n\")\n",
    "display(em_df.head())"
   ]
  },
  {
   "cell_type": "markdown",
   "metadata": {},
   "source": [
    "#### **1. What is the average length on an Eminem song?**\n",
    "\n",
    "Before we dive into calculating an average, let's first do some exploratory data analysis to make sure we remove unwanted data, outliers or errors.  \n",
    "We want our answers to be accurate and in order to do that, we need to understand the data. Let's start with a simple histogram."
   ]
  },
  {
   "cell_type": "code",
   "execution_count": 7,
   "metadata": {},
   "outputs": [
    {
     "data": {
      "image/png": "[encoded data removed]",
      "text/plain": [
       "<Figure size 612x367.2 with 1 Axes>"
      ]
     },
     "metadata": {},
     "output_type": "display_data"
    }
   ],
   "source": [
    "sns.set_style('darkgrid')\n",
    "ax = sns.distplot(em_df['length_sec'],kde=False)\n",
    "\n",
    "title_font = {'fontsize': 14,\n",
    "              'fontweight' : 'bold',\n",
    "              'verticalalignment': 'baseline',\n",
    "              'horizontalalignment': 'center'}\n",
    "\n",
    "axis_font = {'fontsize': 11,\n",
    "              'fontweight' : 'bold',\n",
    "              'verticalalignment': 'baseline',\n",
    "              'horizontalalignment': 'center'}\n",
    "\n",
    "ax.set_title(\"Eminem Song Lengths Histogram\", fontdict = title_font)\n",
    "\n",
    "ax.set_xlabel('Duration (seconds)', labelpad = 14, fontdict = axis_font)\n",
    "ax.set_ylabel('Songs count', labelpad = 8, fontdict =axis_font)\n",
    "\n",
    "plt.show()"
   ]
  },
  {
   "cell_type": "markdown",
   "metadata": {},
   "source": [
    "The histogram shows there are two separate distributions, one of which is has an average of below 100 seconds length.  \n",
    "That suggest those are not songs, so we will remove them from the dataset.\n",
    "But before that, let's check them out and confirm.\n",
    "\n",
    "We can check the short songs in two separate ways:\n",
    "1. Based on the histogram, we can filter songs under 100 seconds.\n",
    "2. We can use clustering to separate groups.\n",
    "\n",
    "I'm going to go for option 1. now for the sake of speed, but the second option would be more robust (if for example the artist publishes new albums that contain skits slightly longer than 100 seconds."
   ]
  },
  {
   "cell_type": "code",
   "execution_count": 8,
   "metadata": {},
   "outputs": [
    {
     "data": {
      "text/html": [
       "<div>\n",
       "<style scoped>\n",
       "    .dataframe tbody tr th:only-of-type {\n",
       "        vertical-align: middle;\n",
       "    }\n",
       "\n",
       "    .dataframe tbody tr th {\n",
       "        vertical-align: top;\n",
       "    }\n",
       "\n",
       "    .dataframe thead th {\n",
       "        text-align: right;\n",
       "    }\n",
       "</style>\n",
       "<table border=\"1\" class=\"dataframe\">\n",
       "  <thead>\n",
       "    <tr style=\"text-align: right;\">\n",
       "      <th></th>\n",
       "      <th>Artist</th>\n",
       "      <th>Album Title</th>\n",
       "      <th>Song Title</th>\n",
       "      <th>Length</th>\n",
       "      <th>Release Date</th>\n",
       "      <th>length_sec</th>\n",
       "    </tr>\n",
       "  </thead>\n",
       "  <tbody>\n",
       "    <tr>\n",
       "      <th>184</th>\n",
       "      <td>Eminem</td>\n",
       "      <td>Music to be Murdered By</td>\n",
       "      <td>Stepdad (intro)</td>\n",
       "      <td>0:15</td>\n",
       "      <td>2020-01-17</td>\n",
       "      <td>15</td>\n",
       "    </tr>\n",
       "    <tr>\n",
       "      <th>20</th>\n",
       "      <td>Eminem</td>\n",
       "      <td>The Slim Shady LP</td>\n",
       "      <td>Lounge (skit)</td>\n",
       "      <td>0:46</td>\n",
       "      <td>1999-02-23</td>\n",
       "      <td>46</td>\n",
       "    </tr>\n",
       "    <tr>\n",
       "      <th>11</th>\n",
       "      <td>Eminem</td>\n",
       "      <td>The Slim Shady LP</td>\n",
       "      <td>Public Service Announcement (skit)</td>\n",
       "      <td>0:33</td>\n",
       "      <td>1999-02-23</td>\n",
       "      <td>33</td>\n",
       "    </tr>\n",
       "    <tr>\n",
       "      <th>31</th>\n",
       "      <td>Eminem</td>\n",
       "      <td>The Marshall Mathers LP</td>\n",
       "      <td>Public Service Announcement 2000 (skit)</td>\n",
       "      <td>0:25</td>\n",
       "      <td>2000-05-23</td>\n",
       "      <td>25</td>\n",
       "    </tr>\n",
       "    <tr>\n",
       "      <th>26</th>\n",
       "      <td>Eminem</td>\n",
       "      <td>The Slim Shady LP</td>\n",
       "      <td>Soap (skit)</td>\n",
       "      <td>0:34</td>\n",
       "      <td>1999-02-23</td>\n",
       "      <td>34</td>\n",
       "    </tr>\n",
       "  </tbody>\n",
       "</table>\n",
       "</div>"
      ],
      "text/plain": [
       "     Artist              Album Title                               Song Title  \\\n",
       "184  Eminem  Music to be Murdered By                          Stepdad (intro)   \n",
       "20   Eminem        The Slim Shady LP                            Lounge (skit)   \n",
       "11   Eminem        The Slim Shady LP       Public Service Announcement (skit)   \n",
       "31   Eminem  The Marshall Mathers LP  Public Service Announcement 2000 (skit)   \n",
       "26   Eminem        The Slim Shady LP                              Soap (skit)   \n",
       "\n",
       "    Length Release Date  length_sec  \n",
       "184   0:15   2020-01-17          15  \n",
       "20    0:46   1999-02-23          46  \n",
       "11    0:33   1999-02-23          33  \n",
       "31    0:25   2000-05-23          25  \n",
       "26    0:34   1999-02-23          34  "
      ]
     },
     "execution_count": 8,
     "metadata": {},
     "output_type": "execute_result"
    }
   ],
   "source": [
    "# 1. filter songs of 100 seconds or under 100\n",
    "short_songs = em_df[em_df['length_sec'] < 100]\n",
    "short_songs.sample(5)"
   ]
  },
  {
   "cell_type": "markdown",
   "metadata": {},
   "source": [
    "As expected, these recordings are skits, interludes or other tracks that are not exactly songs (which are not uncommon in albums).  \n",
    "To confirm, I'll check for keywords like 'skit' and 'interlude' and see if all these songs have them."
   ]
  },
  {
   "cell_type": "code",
   "execution_count": 9,
   "metadata": {},
   "outputs": [
    {
     "data": {
      "text/html": [
       "<div>\n",
       "<style scoped>\n",
       "    .dataframe tbody tr th:only-of-type {\n",
       "        vertical-align: middle;\n",
       "    }\n",
       "\n",
       "    .dataframe tbody tr th {\n",
       "        vertical-align: top;\n",
       "    }\n",
       "\n",
       "    .dataframe thead th {\n",
       "        text-align: right;\n",
       "    }\n",
       "</style>\n",
       "<table border=\"1\" class=\"dataframe\">\n",
       "  <thead>\n",
       "    <tr style=\"text-align: right;\">\n",
       "      <th></th>\n",
       "      <th>Artist</th>\n",
       "      <th>Album Title</th>\n",
       "      <th>Song Title</th>\n",
       "      <th>Length</th>\n",
       "      <th>Release Date</th>\n",
       "      <th>length_sec</th>\n",
       "    </tr>\n",
       "  </thead>\n",
       "  <tbody>\n",
       "    <tr>\n",
       "      <th>95</th>\n",
       "      <td>Eminem</td>\n",
       "      <td>Relapse</td>\n",
       "      <td>Tonya</td>\n",
       "      <td>0:42</td>\n",
       "      <td>2009-05-15</td>\n",
       "      <td>42</td>\n",
       "    </tr>\n",
       "  </tbody>\n",
       "</table>\n",
       "</div>"
      ],
      "text/plain": [
       "    Artist Album Title Song Title Length Release Date  length_sec\n",
       "95  Eminem     Relapse      Tonya   0:42   2009-05-15          42"
      ]
     },
     "metadata": {},
     "output_type": "display_data"
    }
   ],
   "source": [
    "keywords_regex_list = 'skit|interlude|intro|outro'\n",
    "keywords_mask = short_songs['Song Title'].str.contains(keywords_regex_list, case=False, regex=True)\n",
    "\n",
    "# Checking all remaining rows that do not contain the above keywords\n",
    "display(short_songs[~keywords_mask])"
   ]
  },
  {
   "cell_type": "markdown",
   "metadata": {},
   "source": [
    "I've also included two more keywords that appear in the data and tell us that the tracks are not songs. After checking all of these keywords, we end up with one 42 seconds track that does not specify what it is. A quick search shows that \"Tonya\" is also a skit before the song \"Same Song & Dance\".  \n",
    "This means all of the short tracks are indeed skits/intros/outros and we can safely remove them."
   ]
  },
  {
   "cell_type": "code",
   "execution_count": 10,
   "metadata": {},
   "outputs": [],
   "source": [
    "# Keep only songs with more than 100 seconds\n",
    "em_songs = em_df[em_df['length_sec'] > 100].copy(deep=True)"
   ]
  },
  {
   "cell_type": "markdown",
   "metadata": {},
   "source": [
    "Before we continue, we need to do one last check to see if we have any longer intros/outros/skits in the data that may be more than 100 seconds long, hiding within the real songs."
   ]
  },
  {
   "cell_type": "code",
   "execution_count": 11,
   "metadata": {},
   "outputs": [],
   "source": [
    "songs_keywords_mask = em_songs['Song Title'].str.contains(keywords_regex_list, case=False, regex=True)\n",
    "assert songs_keywords_mask.sum() == 0"
   ]
  },
  {
   "cell_type": "markdown",
   "metadata": {},
   "source": [
    "Great! Now we're all set, let's answer the question!\n",
    "\n",
    "To do that, I'll use the histogram plot and set a vertical bar at the mean, where we'll put the average duration."
   ]
  },
  {
   "cell_type": "code",
   "execution_count": 12,
   "metadata": {},
   "outputs": [
    {
     "name": "stdout",
     "output_type": "stream",
     "text": [
      "Songs Released by Eminem: 176\n"
     ]
    }
   ],
   "source": [
    "# Get number of songs released by Eminem\n",
    "print(\"Songs Released by Eminem:\", em_songs.shape[0])"
   ]
  },
  {
   "cell_type": "code",
   "execution_count": 13,
   "metadata": {},
   "outputs": [
    {
     "data": {
      "image/png": "[encoded data removed]",
      "text/plain": [
       "<Figure size 612x367.2 with 1 Axes>"
      ]
     },
     "metadata": {},
     "output_type": "display_data"
    }
   ],
   "source": [
    "sns.set_style('darkgrid')\n",
    "\n",
    "title_font = {'fontsize': 14,\n",
    "              'fontweight' : 'bold',\n",
    "              'verticalalignment': 'baseline',\n",
    "              'horizontalalignment': 'center'}\n",
    "\n",
    "axis_font = {'fontsize': 11,\n",
    "              'fontweight' : 'bold',\n",
    "              'verticalalignment': 'baseline',\n",
    "              'horizontalalignment': 'center'}\n",
    "\n",
    "annotation_font = {'fontsize': 12}\n",
    "\n",
    "ax = sns.distplot(em_songs['length_sec'], kde=True, bins=17)\n",
    "ax.axvline(linewidth=2, color='gray', x=em_songs['length_sec'].mean(), ymin=0, ymax=0.9)\n",
    "ax.text(em_songs['length_sec'].mean() + 15, 0.0075, duration_text(em_songs['length_sec'].mean()), rotation=0, fontdict=annotation_font)\n",
    "\n",
    "ax.set_title(\"Eminem Song Lengths Histogram\", fontdict = title_font)\n",
    "\n",
    "ax.set_xlabel('Duration (seconds)', labelpad = 14, fontdict = axis_font)\n",
    "ax.set_ylabel('Songs count', labelpad = 8, fontdict =axis_font)\n",
    "\n",
    "plt.show()"
   ]
  },
  {
   "cell_type": "code",
   "execution_count": 14,
   "metadata": {},
   "outputs": [
    {
     "data": {
      "text/plain": [
       "count    176.000000\n",
       "mean     268.914773\n",
       "std       50.590554\n",
       "min      142.000000\n",
       "25%      238.000000\n",
       "50%      265.500000\n",
       "75%      301.000000\n",
       "max      434.000000\n",
       "Name: length_sec, dtype: float64"
      ]
     },
     "execution_count": 14,
     "metadata": {},
     "output_type": "execute_result"
    }
   ],
   "source": [
    "em_songs['length_sec'].describe()"
   ]
  },
  {
   "cell_type": "code",
   "execution_count": 15,
   "metadata": {},
   "outputs": [
    {
     "name": "stdout",
     "output_type": "stream",
     "text": [
      "Shortest song:\n"
     ]
    },
    {
     "data": {
      "text/html": [
       "<div>\n",
       "<style scoped>\n",
       "    .dataframe tbody tr th:only-of-type {\n",
       "        vertical-align: middle;\n",
       "    }\n",
       "\n",
       "    .dataframe tbody tr th {\n",
       "        vertical-align: top;\n",
       "    }\n",
       "\n",
       "    .dataframe thead th {\n",
       "        text-align: right;\n",
       "    }\n",
       "</style>\n",
       "<table border=\"1\" class=\"dataframe\">\n",
       "  <thead>\n",
       "    <tr style=\"text-align: right;\">\n",
       "      <th></th>\n",
       "      <th>Artist</th>\n",
       "      <th>Album Title</th>\n",
       "      <th>Song Title</th>\n",
       "      <th>Length</th>\n",
       "      <th>Release Date</th>\n",
       "      <th>length_sec</th>\n",
       "    </tr>\n",
       "  </thead>\n",
       "  <tbody>\n",
       "    <tr>\n",
       "      <th>172</th>\n",
       "      <td>Eminem</td>\n",
       "      <td>Kamikaze</td>\n",
       "      <td>Good Guy</td>\n",
       "      <td>2:22</td>\n",
       "      <td>2018-08-31</td>\n",
       "      <td>142</td>\n",
       "    </tr>\n",
       "  </tbody>\n",
       "</table>\n",
       "</div>"
      ],
      "text/plain": [
       "     Artist Album Title Song Title Length Release Date  length_sec\n",
       "172  Eminem    Kamikaze   Good Guy   2:22   2018-08-31         142"
      ]
     },
     "metadata": {},
     "output_type": "display_data"
    },
    {
     "name": "stdout",
     "output_type": "stream",
     "text": [
      "Longest song:\n"
     ]
    },
    {
     "data": {
      "text/html": [
       "<div>\n",
       "<style scoped>\n",
       "    .dataframe tbody tr th:only-of-type {\n",
       "        vertical-align: middle;\n",
       "    }\n",
       "\n",
       "    .dataframe tbody tr th {\n",
       "        vertical-align: top;\n",
       "    }\n",
       "\n",
       "    .dataframe thead th {\n",
       "        text-align: right;\n",
       "    }\n",
       "</style>\n",
       "<table border=\"1\" class=\"dataframe\">\n",
       "  <thead>\n",
       "    <tr style=\"text-align: right;\">\n",
       "      <th></th>\n",
       "      <th>Artist</th>\n",
       "      <th>Album Title</th>\n",
       "      <th>Song Title</th>\n",
       "      <th>Length</th>\n",
       "      <th>Release Date</th>\n",
       "      <th>length_sec</th>\n",
       "    </tr>\n",
       "  </thead>\n",
       "  <tbody>\n",
       "    <tr>\n",
       "      <th>126</th>\n",
       "      <td>Eminem</td>\n",
       "      <td>The Marshal Mathers LP 2</td>\n",
       "      <td>Bad Guy</td>\n",
       "      <td>7:14</td>\n",
       "      <td>2013-11-05</td>\n",
       "      <td>434</td>\n",
       "    </tr>\n",
       "  </tbody>\n",
       "</table>\n",
       "</div>"
      ],
      "text/plain": [
       "     Artist               Album Title Song Title Length Release Date  \\\n",
       "126  Eminem  The Marshal Mathers LP 2    Bad Guy   7:14   2013-11-05   \n",
       "\n",
       "     length_sec  \n",
       "126         434  "
      ]
     },
     "metadata": {},
     "output_type": "display_data"
    }
   ],
   "source": [
    "# Get shortest song\n",
    "shortest_song = em_songs[em_songs['length_sec'] == em_songs['length_sec'].min()]\n",
    "print(\"Shortest song:\")\n",
    "display(shortest_song)\n",
    "\n",
    "# Get longest song\n",
    "longest_song = em_songs[em_songs['length_sec'] == em_songs['length_sec'].max()]\n",
    "print(\"Longest song:\")\n",
    "display(longest_song)"
   ]
  },
  {
   "cell_type": "markdown",
   "metadata": {},
   "source": [
    "The average Eminem song is about 4:29 minutes long with and they can vary from 2:22 to 7:14 minutes.  \n",
    "Shortest song is called \"Good Guy\" came from the second most recent album \"Kamikaze\".  \n",
    "Longest song came from the \"The Marshal Mathers LP 2\" and is called \"Bad Guy\".  \n",
    "\n",
    "Note: I find it funny that his shortest ever song is called \"Good Guy\" and the longest is actually called the opposite, \"Bad Guy\". Hilarious."
   ]
  },
  {
   "cell_type": "markdown",
   "metadata": {},
   "source": [
    "#### **2. Do Eminem's song get shorter with time?**\n",
    "\n",
    "The trend in rap music is for songs to become shorter and shorter as was funnily and comprehensively explained by Hasan Minhaj on his comedy show [\"Patriot Act\" (Volume 2, Episode 5 \"Hip-hop and Streaming\")](https://en.wikipedia.org/wiki/Patriot_Act_with_Hasan_Minhaj). Eminem is a big critic of the new school and emphasizes that rappers today have become more repetitive and made short songs that heavily focus on catch phrases and just generic flexing about \"ice\" (jewelry), without any meaningful content. This was also beautifully illustrated by [The Pudding](https://pudding.cool/) in their wonderful article [\"The Largest Vocabulary In Hip Hop\"](https://pudding.cool/projects/vocabulary/).\n",
    "\n",
    "Let's see how Eminem's songs evolved in time - did he stay true to his principle, or did he follow the trend and started putting out shorter songs as time went by?"
   ]
  },
  {
   "cell_type": "code",
   "execution_count": 16,
   "metadata": {},
   "outputs": [
    {
     "data": {
      "image/png": "[encoded data removed]",
      "text/plain": [
       "<Figure size 612x367.2 with 1 Axes>"
      ]
     },
     "metadata": {},
     "output_type": "display_data"
    }
   ],
   "source": [
    "# Get average song length by date\n",
    "em_songs_lengths = em_songs.groupby(em_songs['Release Date'].dt.strftime('%Y-%m'))['length_sec'].mean()\n",
    "em_songs_lengths = em_songs_lengths.rename('Duration (sec)')\n",
    "ax = em_songs_lengths.plot(linewidth=3)\n",
    "\n",
    "trend = em_songs_lengths.rolling(5).mean()\n",
    "trend = trend.rename('Rolling Average')\n",
    "ax = trend.plot(linewidth=4, linestyle=':', color='gray', alpha=0.5)\n",
    "\n",
    "ax.set_ylim(0)\n",
    "\n",
    "ax.set_title(\"Evolution of Eminem's song durations\", fontdict = title_font)\n",
    "\n",
    "ax.set_xlabel('Release Date', labelpad = 14, fontdict = axis_font)\n",
    "ax.set_ylabel('Average Song Duration', labelpad = 8, fontdict =axis_font)\n",
    "\n",
    "ax.legend()\n",
    "\n",
    "plt.show()"
   ]
  },
  {
   "cell_type": "markdown",
   "metadata": {},
   "source": [
    "Indeed, Eminem holds true to his principles - here is no sign that Eminem is making shorter songs.  \n",
    "His song length is actually quite consistent and the only spike I see is upwards, not downards."
   ]
  },
  {
   "cell_type": "markdown",
   "metadata": {},
   "source": [
    "#### **3. How many songs did Eminem drop on an album? Is it increasing/decreasing?**\n",
    "\n",
    "Now we're going to analyze the number of songs by album and the total content duration. We want to understand if he's dropping more songs and content per album or not.  \n",
    "First, we need to exclude singles from the list and then we can move onto the actual analysis."
   ]
  },
  {
   "cell_type": "code",
   "execution_count": 17,
   "metadata": {},
   "outputs": [
    {
     "data": {
      "image/png": "[encoded data removed]",
      "text/plain": [
       "<Figure size 612x367.2 with 1 Axes>"
      ]
     },
     "metadata": {},
     "output_type": "display_data"
    }
   ],
   "source": [
    "songs_per_album = em_songs.groupby(['Album Title'])['Song Title'].count()\n",
    "\n",
    "ax = sns.distplot(songs_per_album, bins = 5, kde=False)\n",
    "\n",
    "ax.set_title(\"Number of songs per album\", fontdict = title_font)\n",
    "\n",
    "ax.set_xlabel('Songs count', labelpad = 14, fontdict = axis_font)\n",
    "ax.set_ylabel('Albums', labelpad = 8, fontdict =axis_font)\n",
    "\n",
    "plt.show()"
   ]
  },
  {
   "cell_type": "markdown",
   "metadata": {},
   "source": [
    "As we can see, there are a few \"albums\" with four songs or fewer. These are either singles or tracks from movies. We will remove these before analysis."
   ]
  },
  {
   "cell_type": "code",
   "execution_count": 18,
   "metadata": {},
   "outputs": [],
   "source": [
    "album_list = list(songs_per_album[songs_per_album > 4].index)\n",
    "\n",
    "em_albums = em_songs[em_songs['Album Title'].isin(album_list)]\n",
    "em_albums = em_albums.groupby(['Album Title', 'Release Date'], as_index=False).agg({'Song Title':'count', 'length_sec':'sum'})\n",
    "em_albums = em_albums.rename(columns={'Song Title': 'Song Count', 'length_sec': 'Album Length'})\n",
    "em_albums = em_albums.sort_values('Release Date')"
   ]
  },
  {
   "cell_type": "code",
   "execution_count": 19,
   "metadata": {},
   "outputs": [
    {
     "data": {
      "text/html": [
       "<div>\n",
       "<style scoped>\n",
       "    .dataframe tbody tr th:only-of-type {\n",
       "        vertical-align: middle;\n",
       "    }\n",
       "\n",
       "    .dataframe tbody tr th {\n",
       "        vertical-align: top;\n",
       "    }\n",
       "\n",
       "    .dataframe thead th {\n",
       "        text-align: right;\n",
       "    }\n",
       "</style>\n",
       "<table border=\"1\" class=\"dataframe\">\n",
       "  <thead>\n",
       "    <tr style=\"text-align: right;\">\n",
       "      <th></th>\n",
       "      <th>Song Count</th>\n",
       "      <th>Album Length</th>\n",
       "    </tr>\n",
       "  </thead>\n",
       "  <tbody>\n",
       "    <tr>\n",
       "      <th>count</th>\n",
       "      <td>11</td>\n",
       "      <td>11.00000</td>\n",
       "    </tr>\n",
       "    <tr>\n",
       "      <th>mean</th>\n",
       "      <td>15</td>\n",
       "      <td>3928.00000</td>\n",
       "    </tr>\n",
       "    <tr>\n",
       "      <th>std</th>\n",
       "      <td>2</td>\n",
       "      <td>826.02385</td>\n",
       "    </tr>\n",
       "    <tr>\n",
       "      <th>min</th>\n",
       "      <td>10</td>\n",
       "      <td>2259.00000</td>\n",
       "    </tr>\n",
       "    <tr>\n",
       "      <th>25%</th>\n",
       "      <td>14</td>\n",
       "      <td>3567.00000</td>\n",
       "    </tr>\n",
       "    <tr>\n",
       "      <th>50%</th>\n",
       "      <td>15</td>\n",
       "      <td>4284.00000</td>\n",
       "    </tr>\n",
       "    <tr>\n",
       "      <th>75%</th>\n",
       "      <td>16</td>\n",
       "      <td>4508.00000</td>\n",
       "    </tr>\n",
       "    <tr>\n",
       "      <th>max</th>\n",
       "      <td>17</td>\n",
       "      <td>4637.00000</td>\n",
       "    </tr>\n",
       "  </tbody>\n",
       "</table>\n",
       "</div>"
      ],
      "text/plain": [
       "       Song Count  Album Length\n",
       "count          11      11.00000\n",
       "mean           15    3928.00000\n",
       "std             2     826.02385\n",
       "min            10    2259.00000\n",
       "25%            14    3567.00000\n",
       "50%            15    4284.00000\n",
       "75%            16    4508.00000\n",
       "max            17    4637.00000"
      ]
     },
     "execution_count": 19,
     "metadata": {},
     "output_type": "execute_result"
    }
   ],
   "source": [
    "em_albums_describe = em_albums.describe()\n",
    "em_albums_describe['Song Count'] = em_albums_describe['Song Count'].apply(lambda x: round(x))\n",
    "# em_albums_describe['Album Length'] = em_albums_describe['Album Length'].astype(str)\n",
    "em_albums_describe"
   ]
  },
  {
   "cell_type": "markdown",
   "metadata": {},
   "source": [
    "In his 11 albums across the years, Eminem droped around 15 songs on an album, with an average of 65 minutes of content."
   ]
  },
  {
   "cell_type": "code",
   "execution_count": 20,
   "metadata": {},
   "outputs": [
    {
     "data": {
      "image/png": "[encoded data removed]",
      "text/plain": [
       "<Figure size 1224x367.2 with 2 Axes>"
      ]
     },
     "metadata": {},
     "output_type": "display_data"
    }
   ],
   "source": [
    "fig, ax = plt.subplots(1, 2, figsize=(17, 5.1))\n",
    "\n",
    "ax[0].plot(em_albums['Release Date'], em_albums['Song Count'], linewidth=3)\n",
    "ax[0].set_title('Album song count evolution', fontdict = title_font)\n",
    "ax[0].set_xlabel('Album Release Dates', labelpad = 14, fontdict = axis_font)\n",
    "ax[0].set_ylabel('Songs Count', labelpad = 8, fontdict = axis_font)\n",
    "ax[0].set_ylim(0)\n",
    "\n",
    "ax[1].plot(em_albums['Release Date'], em_albums['Album Length'], linewidth=3)\n",
    "ax[1].set_title('Album content duration evolution', fontdict = title_font)\n",
    "ax[1].set_xlabel('Album Release Dates', labelpad = 14, fontdict = axis_font)\n",
    "ax[1].set_ylabel('Album Content (seconds)', labelpad = 8, fontdict = axis_font)\n",
    "ax[1].set_ylim(0)\n",
    "\n",
    "plt.show()"
   ]
  },
  {
   "cell_type": "markdown",
   "metadata": {},
   "source": [
    "While Eminem has been consistently releasing albums with 14+ songs between 2000 and 2017, Kamikaze (released in 2018) has only about 11 songs, and the least amount of content in the past 20 years. The last album recovered with 17 songs, although total content is still below last 20 years average."
   ]
  },
  {
   "cell_type": "markdown",
   "metadata": {},
   "source": [
    "### **Conclusion**\n",
    "\n",
    "Eminem's releases are very consistent, where his average songs length did not decrease with time. Eminem has been consistently releasing albums with 14+ songs between 2000 and 2017. The only exception is \"Kamikaze\" (released in 2018) has only about 11 songs, and the least amount of content in the past 20 years.  \n",
    "The last album recovered with 17 songs, although total content is still below last 20 years average.\n",
    "\n",
    "#### Summary of Eminem's Stats\n",
    "| Stat                      |           Value |\n",
    "|---------------------------|-----------------|\n",
    "| Songs Released            |             176 |\n",
    "| Albums Released           |              11 |\n",
    "| Average Song Length      |            4:29 |\n",
    "| Number of Songs per Album |              15 |\n",
    "| Content per Album (mins)  |              65 |\n",
    "| Shortest Song             | Good Guy (2:22) |\n",
    "| Longest Song              |  Bad Guy (7:14) |"
   ]
  },
  {
   "cell_type": "markdown",
   "metadata": {},
   "source": [
    "### **Next Episode:**\n",
    "\n",
    "This has been all well and fun, but without any means of comparison, we cannot say (only with the information in this analysis) if he's better or worse than other rappers.  \n",
    "So for the next analysis, we'll take another rapper (TBD) create his stats and compare performances. Should be fun!"
   ]
  },
  {
   "cell_type": "markdown",
   "metadata": {},
   "source": [
    "_____\n",
    "\n",
    "Thank you for reading this notebook. I hope it provided inspiration for your data science projects.  \n",
    "If you find anything in this that could be improved, I'd love some feedback at gradinaru.alex@gmail.com."
   ]
  }
 ],
 "metadata": {
  "kernelspec": {
   "display_name": "Python 3",
   "language": "python",
   "name": "python3"
  },
  "language_info": {
   "codemirror_mode": {
    "name": "ipython",
    "version": 3
   },
   "file_extension": ".py",
   "mimetype": "text/x-python",
   "name": "python",
   "nbconvert_exporter": "python",
   "pygments_lexer": "ipython3",
   "version": "3.7.6"
  }
 },
 "nbformat": 4,
 "nbformat_minor": 4
}
